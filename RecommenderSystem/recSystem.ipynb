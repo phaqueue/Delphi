{
 "cells": [
  {
   "cell_type": "code",
   "execution_count": 1,
   "id": "b58e30c6",
   "metadata": {},
   "outputs": [],
   "source": [
    "import json\n",
    "\n",
    "# The current nutrition facts we can think of. These may be modified later.\n",
    "# Remember that some of the nutrition facts can be mssing in the JSON file.\n",
    "lookUpTable = [\"calories\", \"calories_from_fat\", \"total_fat\", \"saturated_fat\", \"trans_fat\",\n",
    "              \"cholesterol\", \"sodium\", \"carbohydrates\", \"dietary_fiber\", \"sugars\",\n",
    "              \"protein\"]\n",
    "\n",
    "# Maybe we will need a DRI table in the future\n",
    "# DRI = {...}"
   ]
  },
  {
   "cell_type": "code",
   "execution_count": 11,
   "id": "0e803a80",
   "metadata": {},
   "outputs": [],
   "source": [
    "class RecommendationSystem:\n",
    "    def __init__(self):\n",
    "        self.pref = {}\n",
    "        self.items = {}\n",
    "    \n",
    "    # I copied https://stackoverflow.com/questions/51362252/javascript-cosine-similarity-function\n",
    "    def cosineSimilarity(self, A, B):\n",
    "        dotproduct = 0\n",
    "        mA = 0\n",
    "        mB = 0\n",
    "        for i in range(len(A)):\n",
    "            dotproduct += (A[i] * B[i])\n",
    "            mA += (A[i] * A[i])\n",
    "            mB += (B[i] * B[i])\n",
    "        mA = sqrt(mA)\n",
    "        mB = sqrt(mB)\n",
    "        similarity = (dotproduct) / (mA * mB)\n",
    "        return similarity\n",
    "    \n",
    "    def transform(self, nutritionFact, amount):\n",
    "        return 0\n",
    "    \n",
    "    def cmp(self, item):\n",
    "        A = []\n",
    "        B = []\n",
    "            \n",
    "        for nutritionFact, value in self.pref.items():\n",
    "        \n",
    "            '''\n",
    "            We only consider the food items that have specified every nutrition facts specified by the user.\n",
    "            The user who wants low calories food may be disappointed in some extremely high calories food that was\n",
    "            forgotten to be tagged \"high calories\" by the restaurant, even though the other nutrition facts match perfectly. \n",
    "            '''\n",
    "            if (not(nutritionFact in item['nutrition_facts'])):\n",
    "                return 1e9\n",
    "            A.append(value)\n",
    "            \n",
    "            # we need to change the amount to a value from 0 ~ 10\n",
    "            B.append(transform(nutritionFact, item['nutrition_facts'][nutritionFact]))\n",
    "    \n",
    "        return self.cosineSimilarity(A, B)\n",
    "    \n",
    "    # input: A JSON file containing the restaurants \"restaurantsFile\"; a JSON file containing the users \"usersFile\"; number K\n",
    "    # output: top K items based on the user's preferences.\n",
    "    def recommend (self, restaurantsFile, usersFile, K):\n",
    "    \n",
    "        # file -> string\n",
    "        restaurantsString = restaurantsFile.read()\n",
    "        usersString = usersFile.read()\n",
    "    \n",
    "        # parse strings\n",
    "        restaurants = json.loads(restaurantsString)\n",
    "        users = json.loads(usersString)\n",
    "    \n",
    "        # Refer to Delphi/NOSQL/restaurants.json and Delphi/NOSQL/users.json\n",
    "        self.items = restaurants['menu_items'];\n",
    "        self.pref = users['preferences'];\n",
    "        \n",
    "        # for testing\n",
    "        print(self.pref)\n",
    "    \n",
    "        # Sort the items based on the user preferences\n",
    "        sortedItems = sorted(self.items, key = self.cmp)\n",
    "    \n",
    "        return sortedItems[0: K]\n",
    "    "
   ]
  },
  {
   "cell_type": "code",
   "execution_count": 12,
   "id": "b1afe3dd",
   "metadata": {},
   "outputs": [
    {
     "name": "stdout",
     "output_type": "stream",
     "text": [
      "{'calories': 2, 'protein': 7, 'fat': 4, 'carbohydrates': 6, 'sugars': 2}\n",
      "[{'item_id': 1, 'category': 'Breakfast', 'item_name': 'Egg McMuffin', 'nutrition_facts': {'calories': 300.0, 'calories_from_fat': 120.0, 'total_fat': 13.0, 'saturated_fat': 5.0, 'trans_fat': 0.0, 'cholesterol': 260.0, 'sodium': 750.0, 'carbohydrates': 31.0, 'dietary_fiber': 4.0, 'sugars': 3.0, 'protein': 17.0}}, {'item_id': 2, 'category': 'Breakfast', 'item_name': 'Egg White Delight', 'nutrition_facts': {'calories': 250.0, 'calories_from_fat': 70.0, 'total_fat': 8.0, 'saturated_fat': 3.0, 'trans_fat': 0.0, 'cholesterol': 25.0, 'sodium': 770.0, 'carbohydrates': 30.0, 'dietary_fiber': 4.0, 'sugars': 3.0, 'protein': 18.0}}, {'item_id': 3, 'category': 'Breakfast', 'item_name': 'Sausage McMuffin', 'nutrition_facts': {'calories': 370.0, 'calories_from_fat': 200.0, 'total_fat': 23.0, 'saturated_fat': 8.0, 'trans_fat': 0.0, 'cholesterol': 45.0, 'sodium': 780.0, 'carbohydrates': 29.0, 'dietary_fiber': 4.0, 'sugars': 2.0, 'protein': 14.0}}, {'item_id': 4, 'category': 'Breakfast', 'item_name': 'Sausage McMuffin with Egg', 'nutrition_facts': {'calories': 450.0, 'calories_from_fat': 250.0, 'total_fat': 28.0, 'saturated_fat': 10.0, 'trans_fat': 0.0, 'cholesterol': 285.0, 'sodium': 860.0, 'carbohydrates': 30.0, 'dietary_fiber': 4.0, 'sugars': 2.0, 'protein': 21.0}}, {'item_id': 5, 'category': 'Breakfast', 'item_name': 'Sausage McMuffin with Egg Whites', 'nutrition_facts': {'calories': 400.0, 'calories_from_fat': 210.0, 'total_fat': 23.0, 'saturated_fat': 8.0, 'trans_fat': 0.0, 'cholesterol': 50.0, 'sodium': 880.0, 'carbohydrates': 30.0, 'dietary_fiber': 4.0, 'sugars': 2.0, 'protein': 21.0}}, {'item_id': 6, 'category': 'Breakfast', 'item_name': 'Steak & Egg McMuffin', 'nutrition_facts': {'calories': 430.0, 'calories_from_fat': 210.0, 'total_fat': 23.0, 'saturated_fat': 9.0, 'trans_fat': 1.0, 'cholesterol': 300.0, 'sodium': 960.0, 'carbohydrates': 31.0, 'dietary_fiber': 4.0, 'sugars': 3.0, 'protein': 26.0}}, {'item_id': 7, 'category': 'Breakfast', 'item_name': 'Bacon, Egg & Cheese Biscuit (Regular Biscuit)', 'nutrition_facts': {'calories': 460.0, 'calories_from_fat': 230.0, 'total_fat': 26.0, 'saturated_fat': 13.0, 'trans_fat': 0.0, 'cholesterol': 250.0, 'sodium': 1300.0, 'carbohydrates': 38.0, 'dietary_fiber': 2.0, 'sugars': 3.0, 'protein': 19.0}}, {'item_id': 8, 'category': 'Breakfast', 'item_name': 'Bacon, Egg & Cheese Biscuit (Large Biscuit)', 'nutrition_facts': {'calories': 520.0, 'calories_from_fat': 270.0, 'total_fat': 30.0, 'saturated_fat': 14.0, 'trans_fat': 0.0, 'cholesterol': 250.0, 'sodium': 1410.0, 'carbohydrates': 43.0, 'dietary_fiber': 3.0, 'sugars': 4.0, 'protein': 19.0}}, {'item_id': 9, 'category': 'Breakfast', 'item_name': 'Bacon, Egg & Cheese Biscuit with Egg Whites (Regular Biscuit)', 'nutrition_facts': {'calories': 410.0, 'calories_from_fat': 180.0, 'total_fat': 20.0, 'saturated_fat': 11.0, 'trans_fat': 0.0, 'cholesterol': 35.0, 'sodium': 1300.0, 'carbohydrates': 36.0, 'dietary_fiber': 2.0, 'sugars': 3.0, 'protein': 20.0}}, {'item_id': 10, 'category': 'Breakfast', 'item_name': 'Bacon, Egg & Cheese Biscuit with Egg Whites (Large Biscuit)', 'nutrition_facts': {'calories': 470.0, 'calories_from_fat': 220.0, 'total_fat': 25.0, 'saturated_fat': 12.0, 'trans_fat': 0.0, 'cholesterol': 35.0, 'sodium': 1420.0, 'carbohydrates': 42.0, 'dietary_fiber': 3.0, 'sugars': 4.0, 'protein': 20.0}}]\n"
     ]
    }
   ],
   "source": [
    "restaurantsFile = open(\"restaurants.txt\")\n",
    "usersFile = open(\"users.txt\")\n",
    "rec = RecommendationSystem()\n",
    "print (rec.recommend(restaurantsFile, usersFile, 10))"
   ]
  },
  {
   "cell_type": "code",
   "execution_count": null,
   "id": "762376b4",
   "metadata": {},
   "outputs": [],
   "source": []
  }
 ],
 "metadata": {
  "kernelspec": {
   "display_name": "Python 3 (ipykernel)",
   "language": "python",
   "name": "python3"
  },
  "language_info": {
   "codemirror_mode": {
    "name": "ipython",
    "version": 3
   },
   "file_extension": ".py",
   "mimetype": "text/x-python",
   "name": "python",
   "nbconvert_exporter": "python",
   "pygments_lexer": "ipython3",
   "version": "3.9.7"
  }
 },
 "nbformat": 4,
 "nbformat_minor": 5
}
